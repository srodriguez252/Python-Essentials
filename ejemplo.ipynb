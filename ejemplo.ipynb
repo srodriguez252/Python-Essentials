{
 "cells": [
  {
   "cell_type": "code",
   "execution_count": 2,
   "metadata": {},
   "outputs": [
    {
     "name": "stdout",
     "output_type": "stream",
     "text": [
      "Hola Ricardo Purtchert\n"
     ]
    }
   ],
   "source": [
    "def saludo(nombre, apellido):\n",
    "    print(f\"Hola {nombre} {apellido}\")\n",
    "\n",
    "saludo('Ricardo', 'Purtchert')"
   ]
  },
  {
   "cell_type": "code",
   "execution_count": 7,
   "metadata": {},
   "outputs": [
    {
     "name": "stdout",
     "output_type": "stream",
     "text": [
      "Sus datos son: camila muela 2342345234\n"
     ]
    }
   ],
   "source": [
    "def datPer(nombre, dir, tel):\n",
    "    print(f'Sus datos son: {nombre},{dir},{tel}')\n",
    "\n",
    "datPer(input(\"Ingrese su nombre: \"),input(\"Ingrese su dirección: \"), input(\"Ingrese su teléfono: \"))"
   ]
  },
  {
   "cell_type": "code",
   "execution_count": 11,
   "metadata": {},
   "outputs": [
    {
     "name": "stdout",
     "output_type": "stream",
     "text": [
      "El resultado de multiplicar 2 y 1 es 3\n"
     ]
    }
   ],
   "source": [
    "def suma(a,b):\n",
    "    print( f'El resultado de multiplicar {a} y {b} es {a+b}')\n",
    "suma(2,1)"
   ]
  },
  {
   "cell_type": "code",
   "execution_count": 12,
   "metadata": {},
   "outputs": [
    {
     "data": {
      "text/plain": [
       "-1"
      ]
     },
     "execution_count": 12,
     "metadata": {},
     "output_type": "execute_result"
    }
   ],
   "source": [
    "def res(a,b):\n",
    "    return a-b\n",
    "\n",
    "res(6,7)"
   ]
  },
  {
   "cell_type": "code",
   "execution_count": null,
   "metadata": {},
   "outputs": [],
   "source": []
  }
 ],
 "metadata": {
  "kernelspec": {
   "display_name": "Python 3",
   "language": "python",
   "name": "python3"
  },
  "language_info": {
   "codemirror_mode": {
    "name": "ipython",
    "version": 3
   },
   "file_extension": ".py",
   "mimetype": "text/x-python",
   "name": "python",
   "nbconvert_exporter": "python",
   "pygments_lexer": "ipython3",
   "version": "3.9.5"
  },
  "orig_nbformat": 4
 },
 "nbformat": 4,
 "nbformat_minor": 2
}
